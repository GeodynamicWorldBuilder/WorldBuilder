{
 "cells": [
  {
   "cell_type": "markdown",
   "metadata": {
    "id": "LZ7tKD3XvMgY"
   },
   "source": [
    "# Creating World with the Geodynamic World Builder\n",
    "\n",
    "\n",
    "## Geodynamic World Builder\n",
    "This notebook describes the workflow for using the [Geodynamic World Builder](https://geodynamicworldbuilder.github.io/) (GWB)  code, a comunity software used to create complex parameterized geometries to represent the Earth's  features such as faults, plumes, and tectonic plates. These features can then be used to described initial conditions, such as temperature or composition, for a geodynamical setting.\n",
    "\n",
    "### Prerequisites\n",
    "- Python 3.1 > and its libraries (json, plotly, meshio)\n",
    "- GWB (version 0.5 or later)\n",
    "- cmake (version 3.5 or later)\n",
    "\n",
    "### Installation\n",
    "To install GWB, run the following commands in a new cell:\n",
    "\n",
    "```\n",
    "%cd ../../\n",
    "! pwd\n",
    "! mkdir build\n",
    "%cd build\n",
    "! pwd\n",
    "! cmake .. ; make\n",
    "%cd ../contrib/creating-world-notebook/\n",
    "\n",
    "```\n",
    "\n",
    "> Note that the above commands changes the current working directory of the Jupyter notebook so make sure that you are in the parent directory of the module after these commands.\n",
    "\n",
    "More details on the installation can be found in the [manual here](https://gwb.readthedocs.io/en/v1.0.0/user_manual/installation/stand_alone_install.html)"
   ]
  },
  {
   "cell_type": "markdown",
   "metadata": {
    "id": "MWw_gmO3M2LY"
   },
   "source": [
    "## Using GWB\n",
    "\n",
    "To create your world using the GWB, an input text-based JSON file describing the geometry and properties such as temperature, composition etc. is needed. This file, subsequently referred to as the *World Builder (.wb)* file, is enough to create the complicated geometries with specified initial conditions.\n",
    "\n",
    "To query the generated world at specific points or visualize it on a specified grid, an additional text file usually with a chosen extension of `.dat` and `.grid` with the executable files `WorldBuilder/build/bin/gwb-dat` and `WorldBuilder/build/bin/gwb-grid` , respectively, is needed.\n",
    "\n",
    "GWB executables are run from the command line. For example, for a given `my_world.wb` file and a `query-points.dat`, use the command:\n",
    "\n",
    "`WorldBuilder/build/bin/gwb-dat my_world.wb query-points.dat`\n",
    "\n",
    ">    NOTE : The above line assumes that the executable is in the current working directory. If this is not the case, specify the path to the executable. "
   ]
  },
  {
   "cell_type": "markdown",
   "metadata": {
    "id": "R4G5a1avUSCO"
   },
   "source": [
    "##  Writing the input file \n",
    "\n",
    "All the parameters are described in the GWB manual [here](https://gwb.readthedocs.io/en/v1.0.0/GWB_parameter_listings/world_builder_file/index.html). We briefly describe the parameters by loading the world-builder schema file into a variable, `gwb_schema`.\n",
    "\n",
    "1. **Global header information** : There are several parameters that describe the global parameters which will be used while creating the World, such as the `version`, `coordinate system` etc. To check the names and description of all of these parameters, you can access the `properties` item stored in the world-builder schema file and the structure for each of the `properties` is defined using `$schema` as `gwb_schema['properties']['$schema']`.\n",
    "\n",
    "2.  **Features** : GWB supports several different feature models corresponding to a [tectonic feature](https://gwb.readthedocs.io/en/v1.0.0/user_manual/parameter_documentation/features/index.html). To check the available features, you can run `gwb_schema['properties']['features']['items']['defaultSnippets']` in this notebook. More information about each of the available features can be found using `gwb_schema['properties']['features']['items']['oneOf'][$num]`, where `$num` is an integer corresponding to the index in the order of the list of models obtained from the previous command. \n",
    "\n",
    "The geometry of the feature can vary laterally as well as along the down-dip direction for the `fault` and the `subducting plate` models by adding `sections` and `segments`, respectively. *Note that all 'sections' should have the same number of the 'segments'.*\n",
    "\n",
    "\n",
    "Each of these features and their segments and sections can have different properties, such as temperature, composition, grains, velocity. The values of these prescribed properties can be `uniform` or follow some other available distribution for that property. You can get more information on the available property distributions using the schema file. \n",
    "\n",
    "For example, `gwb_schema['properties']['features']['items']['oneOf'][1]['properties']['composition models']['items']['oneOf']` outputs the list of available composition model for a fault (fault is second in the list of available feature models, therefore we use index 1 to output its properties)."
   ]
  },
  {
   "cell_type": "code",
   "execution_count": 1,
   "metadata": {
    "executionInfo": {
     "elapsed": 155,
     "status": "ok",
     "timestamp": 1736877223495,
     "user": {
      "displayName": "Arushi Saxena",
      "userId": "00683773484938428447"
     },
     "user_tz": 480
    },
    "id": "jbGqlaVa2jSr"
   },
   "outputs": [],
   "source": [
    "import subprocess\n",
    "import meshio\n",
    "from glob import glob\n",
    "import plotly.graph_objects as go\n",
    "from scipy.interpolate import griddata\n",
    "import numpy as np\n",
    "\n",
    "import json\n",
    "from jsonschema import validate"
   ]
  },
  {
   "cell_type": "code",
   "execution_count": 2,
   "metadata": {},
   "outputs": [],
   "source": [
    "# The `.wb` file follows a json schema describing the global parameters and the model features.\n",
    "# The schema can be used to investigate the available model features how to describe them \n",
    "# in GWB.\n",
    "\n",
    "schema_file = open('../../doc/world_builder_declarations.schema.json')\n",
    "gwb_schema  = json.load(schema_file)"
   ]
  },
  {
   "cell_type": "markdown",
   "metadata": {},
   "source": [
    "## Playtime : Creating continents \n",
    "\n",
    "In this module, we will create continents with their traces following the letters \"GWB\". This example is chosen just to demonstrate how to incorporate a complex geometry using GWB."
   ]
  },
  {
   "cell_type": "code",
   "execution_count": 3,
   "metadata": {},
   "outputs": [],
   "source": [
    "# STEP 1: First let's create the skeleton file that includes the global header information \n",
    "# and the model features. \n",
    "\n",
    "wb_file = { \"version\": \"1.1\",\n",
    "            \"interpolation\": \"continuous monotone spline\",\n",
    "            \"coordinate system\":{\"model\":\"cartesian\"},\n",
    "            \"features\": []\n",
    "          }"
   ]
  },
  {
   "cell_type": "code",
   "execution_count": 4,
   "metadata": {},
   "outputs": [],
   "source": [
    "def make_plate_feature(plate_name, coordinates, min_depth=-1, max_depth=10):\n",
    "    \"\"\"\n",
    "    This function takes an input fault names and its trace coordinates to create a \n",
    "    fault feature model for the WB file. \n",
    "    Several parameters to describe the fault are set to default values for now.\n",
    "\n",
    "    Parameters\n",
    "    ----------\n",
    "    fault_name : str\n",
    "        The name we want to give to the fault.\n",
    "    coordinates : list\n",
    "        The coordinates of the fault trace as list of [x, y] points.\n",
    "        \n",
    "    Returns\n",
    "    -------\n",
    "    out : dict\n",
    "        The dictionary containing the fault feature model.\n",
    "    \"\"\"\n",
    "    \n",
    "    out = {\n",
    "    \"model\": \"continental plate\",\n",
    "    \"name\": plate_name,\n",
    "    \"min depth\": min_depth,\n",
    "    \"max depth\": max_depth,\n",
    "    \"coordinates\": coordinates,\n",
    "        \n",
    "    \"composition models\": [{\"model\":\"uniform\", \"compositions\":[0], \"max depth\": 10}] \n",
    "     }\n",
    "    \n",
    "    return out"
   ]
  },
  {
   "cell_type": "code",
   "execution_count": 5,
   "metadata": {},
   "outputs": [],
   "source": [
    "# STEP 2 :  Load the accompanying file that contains plate coordinates such that \n",
    "# each enclosed plate is separated by a \"<\" character. \n",
    "# Store all the feature models as a list of dictionaries, as needed by the GWB\n",
    "\n",
    "input_file_name = 'plates.csv'\n",
    "all_plates_json = []\n",
    "\n",
    "# Reading the content of the file\n",
    "with open(input_file_name, 'r') as file:\n",
    "    lines = file.read().split(\"<\")\n",
    "\n",
    "# Determine the number of plates (assuming each block between \"<\" corresponds to one plate)\n",
    "number_of_plates = len(lines)\n",
    "\n",
    "for i in range (1, int(number_of_plates) - 1):\n",
    "    coordinates = lines[i].strip().split()\n",
    "\n",
    "    # Convert the list of string coordinates to floats\n",
    "    list_of_floats = [float(item) for item in coordinates]\n",
    "\n",
    "    # Split into x and y coordinates\n",
    "    coordinates_x = list_of_floats[0::2]\n",
    "    coordinates_y = list_of_floats[1::2]\n",
    "\n",
    "    # Combine into a coordinate array\n",
    "    coordinates_array = list(zip(coordinates_x, coordinates_y))\n",
    "\n",
    "    # Append the result\n",
    "    all_plates_json.append(make_plate_feature('plate_' + str(i), coordinates_array))"
   ]
  },
  {
   "cell_type": "code",
   "execution_count": 6,
   "metadata": {},
   "outputs": [],
   "source": [
    "# STEP 3: Create the json file that includes all the continental plates \n",
    "\n",
    "output_wb_file = \"my_world_builder.wb\"\n",
    "wb_file['features'] = all_plates_json\n",
    "\n",
    "with open(output_wb_file, \"w\") as f :\n",
    "    json.dump(wb_file, f)"
   ]
  },
  {
   "cell_type": "code",
   "execution_count": 7,
   "metadata": {},
   "outputs": [
    {
     "name": "stdout",
     "output_type": "stream",
     "text": [
      "                                                                                                                   \r"
     ]
    },
    {
     "data": {
      "text/plain": [
       "CompletedProcess(args='../../build/bin/gwb-grid my_world_builder.wb cartesian_surface.grid', returncode=0)"
      ]
     },
     "execution_count": 7,
     "metadata": {},
     "output_type": "execute_result"
    }
   ],
   "source": [
    "# STEP 4: Run the GWB using the .wb file generated above using the\n",
    "# accompanying .grid file, 'cartesian_surface.grid'\n",
    "# This .grid file is a simple text file that contains the extent and\n",
    "# the discretization of the grid. We need to make sure that the extent \n",
    "# of the grid is big enough to include all the plates.\n",
    "\n",
    "gwb_grid_location = \"../../build/bin/gwb-grid \"\n",
    "grid_file_name    = \" cartesian_surface.grid\"\n",
    "command_to_run    = gwb_grid_location + output_wb_file + grid_file_name\n",
    "\n",
    "subprocess.run(command_to_run, shell=True)"
   ]
  },
  {
   "cell_type": "markdown",
   "metadata": {
    "id": "iaW38MIj2a_i"
   },
   "source": [
    "## Visualizing the results\n",
    "\n",
    "### Meshio\n",
    "To visualize the generated world, we use the `gwb-grid` to query the properties on a grid file, `cartesian_surface.grid` available as one of the [tests](https://github.com/GeodynamicWorldBuilder/WorldBuilder/tree/main/tests) in GWB."
   ]
  },
  {
   "cell_type": "code",
   "execution_count": 8,
   "metadata": {
    "id": "RqKJjV7K6w8H"
   },
   "outputs": [],
   "source": [
    "def read_vtu_file (file_name):\n",
    "    \"\"\"\n",
    "    This function takes an input .vtu file_name (either structured or\n",
    "    unstructured mesh) and returns the point coordinates and values in that file.  \n",
    "    \n",
    "    Parameters\n",
    "    ----------\n",
    "    file_name : str\n",
    "        The name of the vtu file\n",
    "        \n",
    "    Returns\n",
    "    -------\n",
    "    nodes  : A numpy array with columns corresponding to the \n",
    "             coordinates of the node points (x, y, z) in the input mesh.\n",
    "    \n",
    "    data_out : A dictionary containing key:values corresponding to the \n",
    "               available fields and their values in the input .vtu file.\n",
    "    \"\"\"\n",
    "    \n",
    "    mesh     = meshio.read(file_name)\n",
    "    nodes    = mesh.points\n",
    "    data_out = mesh.point_data\n",
    "    \n",
    "    return (nodes, data_out)"
   ]
  },
  {
   "cell_type": "code",
   "execution_count": 9,
   "metadata": {
    "executionInfo": {
     "elapsed": 145,
     "status": "ok",
     "timestamp": 1736876702953,
     "user": {
      "displayName": "Arushi Saxena",
      "userId": "00683773484938428447"
     },
     "user_tz": 480
    },
    "id": "_QSpq5hL6YrG"
   },
   "outputs": [],
   "source": [
    "vtu_file = output_wb_file.replace('.wb', '.vtu')\n",
    "coordinates, data = read_vtu_file (vtu_file)"
   ]
  },
  {
   "cell_type": "code",
   "execution_count": 10,
   "metadata": {},
   "outputs": [],
   "source": [
    "%%capture \n",
    "\n",
    "# Create the 3D scatter plot using Plotly\n",
    "points_x = coordinates[:, 0]\n",
    "points_y = coordinates[:, 1]\n",
    "points_z = coordinates[:, 2]\n",
    "\n",
    "x_ = np.linspace(min(points_x), max(points_x), 80)\n",
    "y_ = np.linspace(min(points_y), max(points_y), 40)\n",
    "z_ = np.linspace(min(points_z), max(points_z), 5)\n",
    "\n",
    "values = data['Composition 0']\n",
    "\n",
    "X, Y, Z = np.meshgrid(x_, y_, z_, indexing='ij')\n",
    "values   = griddata((points_x, points_y, points_z), values, (X, Y, Z), method='nearest')\n",
    "\n",
    "# Create a meshgrid with the spherical coordinates\n",
    "\n",
    "fig = go.Figure(data=go.Volume(\n",
    "    x=X.flatten(),\n",
    "    y=Y.flatten(),\n",
    "    z=Z.flatten(),\n",
    "    value=values.flatten(), \n",
    "    colorscale='rdbu_r', \n",
    "    colorbar = dict(title='Composition', tickvals=[0, 1], ticktext=['0', '1']),\n",
    "    opacity=0.2,\n",
    "    surface_count=30,\n",
    "    ))\n",
    "\n",
    "camera = dict( eye=dict(x=0, y=0, z=4),  \n",
    "              up=dict(x=0, y=1, z=0),     \n",
    "              center=dict(x=0, y=0, z=0))\n",
    "\n",
    "fig.update_scenes(aspectmode='data')\n",
    "fig.update_layout(scene_camera=camera, title=\"GWB Output\")"
   ]
  },
  {
   "cell_type": "markdown",
   "metadata": {},
   "source": [
    "### Paraview Glance\n",
    "Another tool to visualize the models is to use the [Glance](https://kitware.github.io/glance/app/) app. You can easily load the generated `.vtu` file from the GWB in Glance and rotate around the modeled results and modify the visualization field."
   ]
  },
  {
   "cell_type": "markdown",
   "metadata": {},
   "source": [
    "### Exercise: things to try\n",
    "\n",
    "* Change the max depth \n",
    "* Change composition value to 1 and modify the current .grid file for 2 compositions\n",
    "* Plot temperatures instead of Composition\n",
    "* Add more features\n",
    "* Modify the resolution by changing, one of more of n_cell_x, n_cell_y, n_cell_z, in the.grid file"
   ]
  }
 ],
 "metadata": {
  "colab": {
   "authorship_tag": "ABX9TyPTW1UuXYKrsm8pvCCZ0sX7",
   "provenance": []
  },
  "kernelspec": {
   "display_name": "base",
   "language": "python",
   "name": "python3"
  },
  "language_info": {
   "codemirror_mode": {
    "name": "ipython",
    "version": 3
   },
   "file_extension": ".py",
   "mimetype": "text/x-python",
   "name": "python",
   "nbconvert_exporter": "python",
   "pygments_lexer": "ipython3",
   "version": "3.11.5"
  }
 },
 "nbformat": 4,
 "nbformat_minor": 1
}
